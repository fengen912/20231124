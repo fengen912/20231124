{
 "cells": [
  {
   "cell_type": "code",
   "execution_count": 9,
   "id": "403c45c8",
   "metadata": {},
   "outputs": [
    {
     "name": "stdout",
     "output_type": "stream",
     "text": [
      "請輸入欲查詢之公司代碼2303\n"
     ]
    },
    {
     "data": {
      "text/plain": [
       "[<tr>\n",
       " <th class=\"tblHead\">項目</th>\n",
       " <th class=\"tblHead\">營業收入淨額</th>\n",
       " </tr>,\n",
       " <tr>\n",
       " <th class=\"tblHead\">本月</th>\n",
       " <td class=\"odd\" style=\"text-align:right !important;\">            19,191,382</td></tr>,\n",
       " <tr>\n",
       " <th class=\"tblHead\">去年同期</th>\n",
       " <td class=\"even\" style=\"text-align:right !important;\">            24,344,264</td></tr>,\n",
       " <tr>\n",
       " <th class=\"tblHead\">增減金額</th>\n",
       " <td class=\"odd\" style=\"text-align:right !important;\">            -5,152,882</td></tr>,\n",
       " <tr>\n",
       " <th class=\"tblHead\">增減百分比</th>\n",
       " <td class=\"even\" style=\"text-align:right !important;\">      -21.17</td></tr>,\n",
       " <tr>\n",
       " <th class=\"tblHead\">本年累計</th>\n",
       " <td class=\"odd\" style=\"text-align:right !important;\">            186,766,104</td></tr>,\n",
       " <tr>\n",
       " <th class=\"tblHead\">去年累計</th>\n",
       " <td class=\"even\" style=\"text-align:right !important;\">           235,213,813</td></tr>,\n",
       " <tr>\n",
       " <th class=\"tblHead\">增減金額</th>\n",
       " <td class=\"odd\" style=\"text-align:right !important;\">            -48,447,709</td></tr>,\n",
       " <tr>\n",
       " <th class=\"tblHead\">增減百分比</th>\n",
       " <td class=\"even\" style=\"text-align:right !important;\">      -20.60</td></tr>]"
      ]
     },
     "execution_count": 9,
     "metadata": {},
     "output_type": "execute_result"
    }
   ],
   "source": [
    "import requests\n",
    "from bs4 import BeautifulSoup\n",
    "import pandas as pd\n",
    "import re\n",
    "\n",
    "url = \"https://mops.twse.com.tw/mops/web/t05st10_ifrs\"\n",
    "post_data = {\"encodeURIComponent\": \"1\", \"step\": \"1\", \"firstin\": \"1\", \"off\": \"1\", \"keyword4\": \"\", \"code1\": \"\", \"TYPEK2\": \"\", \"checkbtn\": \"\", \"queryName\": \"co_id\", \"inpuType\": \"co_id\", \"TYPEK\": \"all\", \"isnew\": \"true\", \"co_id\": str(input(\"請輸入欲查詢之公司代碼\")), \"year\": \"\", \"month\": \"\"}\n",
    "resp = requests.post(url, post_data)\n",
    "soup = BeautifulSoup(resp.text, 'lxml')\n",
    "\n",
    "table = soup.find(\"table\", class_=\"hasBorder\").find_all(\"tr\")\n",
    "\n",
    "table"
   ]
  },
  {
   "cell_type": "code",
   "execution_count": 16,
   "id": "876bd07e",
   "metadata": {},
   "outputs": [
    {
     "data": {
      "text/plain": [
       "[['本月', '19,191,382'],\n",
       " ['去年同期', '24,344,264'],\n",
       " ['增減金額', '-5,152,882'],\n",
       " ['增減百分比', '-21.17'],\n",
       " ['本年累計', '186,766,104'],\n",
       " ['去年累計', '235,213,813'],\n",
       " ['增減金額', '-48,447,709'],\n",
       " ['增減百分比', '-20.60']]"
      ]
     },
     "execution_count": 16,
     "metadata": {},
     "output_type": "execute_result"
    }
   ],
   "source": [
    "datas=[]\n",
    "for b in table[1:]:\n",
    "    month=re.sub(r'[\\n\\xa0]','',b.contents[1].text.strip())\n",
    "    money=re.sub(r'[\\n\\xa0]','',b.contents[3].text.strip())\n",
    "    \n",
    "    datas.append([month, money])\n",
    "    \n",
    "\n",
    "datas"
   ]
  },
  {
   "cell_type": "code",
   "execution_count": null,
   "id": "ae678827",
   "metadata": {},
   "outputs": [],
   "source": [
    "df=pd.DataFrame(datas)\n",
    "df.to_csv('hw.csv',index=Fal)"
   ]
  }
 ],
 "metadata": {
  "kernelspec": {
   "display_name": "Python 3 (ipykernel)",
   "language": "python",
   "name": "python3"
  },
  "language_info": {
   "codemirror_mode": {
    "name": "ipython",
    "version": 3
   },
   "file_extension": ".py",
   "mimetype": "text/x-python",
   "name": "python",
   "nbconvert_exporter": "python",
   "pygments_lexer": "ipython3",
   "version": "3.11.4"
  }
 },
 "nbformat": 4,
 "nbformat_minor": 5
}
